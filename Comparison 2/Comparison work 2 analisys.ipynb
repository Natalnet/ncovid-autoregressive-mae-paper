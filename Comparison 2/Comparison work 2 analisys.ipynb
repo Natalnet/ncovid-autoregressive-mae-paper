{
 "cells": [
  {
   "cell_type": "code",
   "execution_count": null,
   "metadata": {
    "executionInfo": {
     "elapsed": 8154,
     "status": "ok",
     "timestamp": 1656610039553,
     "user": {
      "displayName": "EMERSON OLIVEIRA",
      "userId": "15980161080533780501"
     },
     "user_tz": 180
    },
    "id": "CnjJemyWEUM1"
   },
   "outputs": [],
   "source": [
    "import json\n",
    "from scipy.stats import rankdata\n",
    "import pandas as pd\n",
    "import numpy as np"
   ]
  },
  {
   "cell_type": "markdown",
   "metadata": {
    "id": "5-RwQh4oKsNh"
   },
   "source": [
    "# Type #1"
   ]
  },
  {
   "cell_type": "code",
   "execution_count": null,
   "metadata": {
    "colab": {
     "base_uri": "https://localhost:8080/"
    },
    "executionInfo": {
     "elapsed": 1100,
     "status": "ok",
     "timestamp": 1655919305899,
     "user": {
      "displayName": "EMERSON OLIVEIRA",
      "userId": "15980161080533780501"
     },
     "user_tz": 180
    },
    "id": "XWv9LwjxE5xK",
    "outputId": "8a05e70f-3d34-46d5-d777-5c4b064a79a7"
   },
   "outputs": [],
   "source": [
    "cd 'results/type#1'"
   ]
  },
  {
   "cell_type": "markdown",
   "metadata": {},
   "source": [
    "Getting the model seed from best model pred RMSE."
   ]
  },
  {
   "cell_type": "code",
   "execution_count": null,
   "metadata": {
    "colab": {
     "base_uri": "https://localhost:8080/"
    },
    "executionInfo": {
     "elapsed": 16,
     "status": "ok",
     "timestamp": 1655920137403,
     "user": {
      "displayName": "EMERSON OLIVEIRA",
      "userId": "15980161080533780501"
     },
     "user_tz": 180
    },
    "id": "dYE4fDthFG6o",
    "outputId": "d5f3a60f-2fba-4fe4-9b6d-59f2a778e24a"
   },
   "outputs": [],
   "source": [
    "countries = ['US', 'Spain', 'Italy', 'UK', 'France', 'Germany', 'Russia', 'Turkey', 'Brazil', 'Iran']\n",
    "\n",
    "type1_best_pred = []\n",
    "for country in countries:\n",
    "    with open('type#1('+country+')mae.json') as json_file:\n",
    "        data = json.load(json_file)\n",
    "\n",
    "    preds_rmses = [data[index]['pred_rmse'] for index in data]\n",
    "    min_pred_rmse = min(preds_rmses)\n",
    "    min_pred_rmse_index = preds_rmses.index(min_pred_rmse)\n",
    "    min_pred_rmse_seed = int(data['model_'+str(min_pred_rmse_index)]['seed'])\n",
    "    \n",
    "    type1_best_pred.append(min_pred_rmse)\n",
    "    \n",
    "    print(f\"#### To %s ####\" % (country))\n",
    "    print(f\"Min pred RMSE was %.6f from seed %d.\" % (min_pred_rmse, min_pred_rmse_seed))\n",
    "    print(\"\\n\")"
   ]
  },
  {
   "cell_type": "markdown",
   "metadata": {
    "id": "T35UmkZ1K0Mh"
   },
   "source": [
    "# Type #2"
   ]
  },
  {
   "cell_type": "code",
   "execution_count": null,
   "metadata": {
    "colab": {
     "base_uri": "https://localhost:8080/"
    },
    "executionInfo": {
     "elapsed": 339,
     "status": "ok",
     "timestamp": 1655921655583,
     "user": {
      "displayName": "EMERSON OLIVEIRA",
      "userId": "15980161080533780501"
     },
     "user_tz": 180
    },
    "id": "LIsZMsxNK0Mj",
    "outputId": "bd455ad1-7cab-43d1-ae0c-03b21b553363"
   },
   "outputs": [],
   "source": [
    "cd '../type#2'"
   ]
  },
  {
   "cell_type": "markdown",
   "metadata": {},
   "source": [
    "Getting the model seed from best model pred RMSE."
   ]
  },
  {
   "cell_type": "code",
   "execution_count": null,
   "metadata": {
    "colab": {
     "base_uri": "https://localhost:8080/"
    },
    "executionInfo": {
     "elapsed": 3088,
     "status": "ok",
     "timestamp": 1655921658999,
     "user": {
      "displayName": "EMERSON OLIVEIRA",
      "userId": "15980161080533780501"
     },
     "user_tz": 180
    },
    "id": "8hc_uAqtK0Mk",
    "outputId": "270d9f53-a3b0-43af-b611-ee453b5f2791"
   },
   "outputs": [],
   "source": [
    "countries = ['US', 'Spain', 'Italy', 'UK', 'France', 'Germany', 'Russia', 'Turkey', 'Brazil', 'Iran']\n",
    "\n",
    "type2_best_pred = []\n",
    "for country in countries:\n",
    "    with open('type#2('+country+')mae.json') as json_file:\n",
    "        data = json.load(json_file)\n",
    "\n",
    "    preds_rmses = [data[index]['pred_rmse'] for index in data]\n",
    "    min_pred_rmse = min(preds_rmses)\n",
    "    min_pred_rmse_index = preds_rmses.index(min_pred_rmse)\n",
    "    min_pred_rmse_seed = int(data['model_'+str(min_pred_rmse_index)]['seed'])\n",
    "    \n",
    "    type2_best_pred.append(min_pred_rmse)\n",
    "    \n",
    "    print(f\"#### To %s ####\" % (country))\n",
    "    print(f\"Min pred RMSE was %.6f from seed %d.\" % (min_pred_rmse, min_pred_rmse_seed))\n",
    "    print(\"\\n\")"
   ]
  },
  {
   "cell_type": "markdown",
   "metadata": {
    "id": "ZTWYOYN3K0vx"
   },
   "source": [
    "# Type #3"
   ]
  },
  {
   "cell_type": "code",
   "execution_count": null,
   "metadata": {
    "colab": {
     "base_uri": "https://localhost:8080/"
    },
    "executionInfo": {
     "elapsed": 40,
     "status": "ok",
     "timestamp": 1655922074460,
     "user": {
      "displayName": "EMERSON OLIVEIRA",
      "userId": "15980161080533780501"
     },
     "user_tz": 180
    },
    "id": "bYG2pDgfK0vy",
    "outputId": "7e16b48a-c577-4fdf-d41e-b8d82e3696cb"
   },
   "outputs": [],
   "source": [
    "cd '../type#3'"
   ]
  },
  {
   "cell_type": "markdown",
   "metadata": {},
   "source": [
    "Getting the model seed and epoch with the min validation loss value."
   ]
  },
  {
   "cell_type": "code",
   "execution_count": null,
   "metadata": {
    "colab": {
     "base_uri": "https://localhost:8080/"
    },
    "executionInfo": {
     "elapsed": 2958,
     "status": "ok",
     "timestamp": 1655922077397,
     "user": {
      "displayName": "EMERSON OLIVEIRA",
      "userId": "15980161080533780501"
     },
     "user_tz": 180
    },
    "id": "yX5SntOfK0vz",
    "outputId": "03bda9ed-1446-452e-8278-1c0eb366bd25"
   },
   "outputs": [],
   "source": [
    "countries = ['US', 'Spain', 'Italy', 'UK', 'France', 'Germany', 'Russia', 'Turkey', 'Brazil', 'Iran']\n",
    "\n",
    "type3_best_pred = []\n",
    "for country in countries:\n",
    "    with open('type#3('+country+')mae.json') as json_file:\n",
    "        data = json.load(json_file)\n",
    "\n",
    "    preds_rmses = [data[index]['pred_rmse'] for index in data]\n",
    "    min_pred_rmse = min(preds_rmses)\n",
    "    min_pred_rmse_index = preds_rmses.index(min_pred_rmse)\n",
    "    min_pred_rmse_seed = int(data['model_'+str(min_pred_rmse_index)]['seed'])\n",
    "    \n",
    "    type3_best_pred.append(min_pred_rmse)\n",
    "    \n",
    "    print(f\"#### To %s ####\" % (country))\n",
    "    print(f\"Min pred RMSE was %.6f from seed %d.\" % (min_pred_rmse, min_pred_rmse_seed))\n",
    "    print(\"\\n\")"
   ]
  },
  {
   "cell_type": "markdown",
   "metadata": {},
   "source": [
    "# Ranking"
   ]
  },
  {
   "cell_type": "code",
   "execution_count": null,
   "metadata": {},
   "outputs": [],
   "source": [
    "# Values from the comparison work results table.\n",
    "\n",
    "arima   = [0.007421, 0.080094, 0.005628, 0.005484, 0.060824, 0.006431, 0.001536, 0.004442, 0.004194, 0.002628]\n",
    "prophet = [0.013877, 0.065433, 0.019217, 0.007634, 0.044482, 0.037139, 0.014681, 0.044595, 0.009279, 0.016281]\n",
    "hwaas   = [0.172957, 0.031497, 0.006616, 0.004366, 0.011007, 0.004586, 0.002295, 0.000887, 0.005717, 0.001046]\n",
    "nbeats  = [0.036958, 0.050492, 0.008645, 0.037623, 0.004220, 0.013192, 0.027078, 0.018265, 0.010870, 0.003745]\n",
    "glouns  = [0.044805, 0.108842, 0.043551, 0.046134, 0.010549, 0.057523, 0.034479, 0.093839, 0.002836, 0.002277]\n",
    "tbat    = [0.009873, 0.029295, 0.005810, 0.004310, 0.007003, 0.003389, 0.002193, 0.001946, 0.005621, 0.000425]"
   ]
  },
  {
   "cell_type": "code",
   "execution_count": null,
   "metadata": {},
   "outputs": [],
   "source": [
    "# Just to prove the Friedman ranking is been right calculated\n",
    "\n",
    "# Without our model\n",
    "arg = np.matrix([arima, prophet, hwaas, nbeats, glouns, tbat]).T\n",
    "\n",
    "rank_vect = []\n",
    "for a in arg:\n",
    "    rank_vect.append(rankdata(a))\n",
    "rank_matrix = np.matrix(rank_vect)\n",
    "rank = rank_matrix.sum(axis=0)/10\n",
    "rank_list = rank.tolist()[0]\n",
    "model_list = [\"ARIMA\", \"Prophet\", \"HWAAS\", \"NBEATS\", \"Gluonts\", \"TBAT\"]\n",
    "rank_dict = {}\n",
    "for index, model in enumerate(model_list):\n",
    "    rank_dict[model] = rank_list[index]\n",
    "\n",
    "rank_dict = dict(sorted(rank_dict.items(), key=lambda item: item[1]))    \n",
    "for model in rank_dict.items():\n",
    "    print(model)"
   ]
  },
  {
   "cell_type": "markdown",
   "metadata": {},
   "source": [
    "Exatcly the same results obtained in the comparison work Table 2. Thus, the ranking calc is the same.\n",
    "\n",
    "Now, with our model inserted."
   ]
  },
  {
   "cell_type": "code",
   "execution_count": null,
   "metadata": {},
   "outputs": [],
   "source": [
    "print(\"### Type 1 ###\")\n",
    "print(type1_best_pred)\n",
    "print(\"\\n\")\n",
    "print(\"### Type 2 ###\")\n",
    "print(type2_best_pred)\n",
    "print(\"\\n\")\n",
    "print(\"### Type 3 ###\")\n",
    "print(type3_best_pred)\n",
    "print(\"\\n\")"
   ]
  },
  {
   "cell_type": "code",
   "execution_count": null,
   "metadata": {},
   "outputs": [],
   "source": [
    "# the variable type1_best_pred, type2_best_pred and type3_best_pred stored our model results.\n",
    "\n",
    "arg = np.matrix([arima, prophet, hwaas, nbeats, glouns, tbat, type1_best_pred, type2_best_pred, type3_best_pred]).T\n",
    "\n",
    "rank_vect = []\n",
    "for a in arg:\n",
    "    rank_vect.append(rankdata(a))\n",
    "rank_matrix = np.matrix(rank_vect)\n",
    "rank = rank_matrix.sum(axis=0)/10\n",
    "rank_list = rank.tolist()[0]\n",
    "model_list = [\"ARIMA\", \"Prophet\", \"HWAAS\", \"NBEATS\", \"Gluonts\", \"TBAT\", \"Type#1\", \"Type#2\", \"Type#3\"]\n",
    "rank_dict = {}\n",
    "for index, model in enumerate(model_list):\n",
    "    rank_dict[model] = rank_list[index]\n",
    "\n",
    "rank_dict = dict(sorted(rank_dict.items(), key=lambda item: item[1]))    \n",
    "for model in rank_dict.items():\n",
    "    print(model)"
   ]
  }
 ],
 "metadata": {
  "colab": {
   "authorship_tag": "ABX9TyPwGRRitWAvPeL2rHOc5x9J",
   "collapsed_sections": [],
   "name": "Forecasting of Covid-19 Infected Percentage (Analysis).ipynb",
   "provenance": []
  },
  "kernelspec": {
   "display_name": "Python 3 (ipykernel)",
   "language": "python",
   "name": "python3"
  },
  "language_info": {
   "codemirror_mode": {
    "name": "ipython",
    "version": 3
   },
   "file_extension": ".py",
   "mimetype": "text/x-python",
   "name": "python",
   "nbconvert_exporter": "python",
   "pygments_lexer": "ipython3",
   "version": "3.10.11"
  }
 },
 "nbformat": 4,
 "nbformat_minor": 1
}
