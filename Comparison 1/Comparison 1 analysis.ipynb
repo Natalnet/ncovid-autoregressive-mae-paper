{
 "cells": [
  {
   "cell_type": "code",
   "execution_count": null,
   "metadata": {
    "id": "DhjkuKr2EX_V"
   },
   "outputs": [],
   "source": [
    "import pandas as pd\n",
    "import numpy as np\n",
    "import matplotlib.pyplot as plt\n",
    "import matplotlib.transforms as transforms\n",
    "\n",
    "import json"
   ]
  },
  {
   "cell_type": "code",
   "execution_count": null,
   "metadata": {
    "id": "jnCH8vUURMBL"
   },
   "outputs": [],
   "source": [
    "def extract_values(data, metric, subtype):\n",
    "    return [data[model][\"metrics\"][metric + \"_\" + subtype] for model in data]\n",
    "\n",
    "def return_seed_from_model_index(data, model_index):\n",
    "    return int(float(data['model_' + str(model_index)]['seed']))\n",
    "\n",
    "def customized_boxplot(box_data, show_means=True):\n",
    "    meanpointprops = dict(marker='o', markeredgecolor='black', markerfacecolor='black')\n",
    "    medianlineprops = dict(color='black')\n",
    "    fig, ax = plt.subplots(figsize =(15, 10))\n",
    "\n",
    "    bp = plt.boxplot(box_data.values(), notch=True, showmeans=True, meanprops=meanpointprops, medianprops=medianlineprops)\n",
    "    plt.xticks(range(1, len(box_data)+1), box_data.keys(), fontsize=15)\n",
    "    plt.yticks(fontsize=15)\n",
    "\n",
    "    if show_means:\n",
    "        transforms_boxplot = transforms.blended_transform_factory(ax.transData, ax.transAxes)\n",
    "        for index, v in enumerate(bp['medians']):\n",
    "            y = v.get_ydata()[1]\n",
    "            print(y)\n",
    "            plt.text(index+1, 1.01, '%.2f' % y, weight='bold', fontsize=15, transform=transforms_boxplot, horizontalalignment='center')\n",
    "\n",
    "    plt.xlabel('Training Type', fontsize=16)\n",
    "    plt.ylabel('RMSE values', fontsize=16)\n",
    "    plt.grid(True)\n",
    "    plt.show()"
   ]
  },
  {
   "cell_type": "markdown",
   "metadata": {
    "id": "a0cPz0FIF49B"
   },
   "source": [
    "# SP Data (AIRQ data)"
   ]
  },
  {
   "cell_type": "markdown",
   "metadata": {
    "id": "3GX0r7LbwnbA"
   },
   "source": [
    "## D to D"
   ]
  },
  {
   "cell_type": "code",
   "execution_count": null,
   "metadata": {
    "colab": {
     "base_uri": "https://localhost:8080/"
    },
    "id": "szvvACazwkX1",
    "outputId": "151cca48-39c2-47c4-cde1-57179b130537"
   },
   "outputs": [],
   "source": [
    "cd 'experiments/D'"
   ]
  },
  {
   "cell_type": "code",
   "execution_count": null,
   "metadata": {
    "id": "ZuYOGJKuFTuq"
   },
   "outputs": [],
   "source": [
    "with open('type#1(D)_airq-data.json') as json_file:\n",
    "    type1 = json.load(json_file)\n",
    "\n",
    "with open('type#2(D)_airq-data.json') as json_file:\n",
    "    type2 = json.load(json_file)\n",
    "\n",
    "with open('type#3(D)_airq-data.json') as json_file:\n",
    "    type3 = json.load(json_file)"
   ]
  },
  {
   "cell_type": "code",
   "execution_count": null,
   "metadata": {
    "colab": {
     "base_uri": "https://localhost:8080/",
     "height": 685
    },
    "id": "jyUUoQiVF9Ke",
    "outputId": "b578b05b-9f22-4288-bc6c-b7de35aa9bea"
   },
   "outputs": [],
   "source": [
    "# extract_values(data, metric, subtype)\n",
    "#   \"metric\": rmse, mae, meae, mape\n",
    "#   \"subtype\": entire, train, test \n",
    "\n",
    "metric = 'rmse'\n",
    "subtype = 'entire'\n",
    "\n",
    "rmses_type1 = extract_values(type1, metric, subtype)\n",
    "rmses_type2 = extract_values(type2, metric, subtype)\n",
    "rmses_type3 = extract_values(type3, metric, subtype)\n",
    "\n",
    "box_data = {\"Type#1\": rmses_type1, \"Type#2\": rmses_type2, \"Type#3\": rmses_type3}\n",
    "customized_boxplot(box_data)"
   ]
  },
  {
   "cell_type": "code",
   "execution_count": null,
   "metadata": {
    "colab": {
     "base_uri": "https://localhost:8080/",
     "height": 685
    },
    "id": "zpXEuhPeIGMu",
    "outputId": "6595656e-a114-41f1-8cea-aeff08e9b271"
   },
   "outputs": [],
   "source": [
    "metric = 'rmse'\n",
    "subtype = 'test'\n",
    "\n",
    "rmses_type1 = extract_values(type1, metric, subtype)\n",
    "rmses_type2 = extract_values(type2, metric, subtype)\n",
    "rmses_type3 = extract_values(type3, metric, subtype)\n",
    "\n",
    "box_data = {\"Type#1\": rmses_type1, \"Type#2\": rmses_type2, \"Type#3\": rmses_type3}\n",
    "customized_boxplot(box_data)"
   ]
  },
  {
   "cell_type": "code",
   "execution_count": null,
   "metadata": {
    "colab": {
     "base_uri": "https://localhost:8080/"
    },
    "id": "ISS_OAqxf_EN",
    "outputId": "fbdb589b-5363-486b-c48c-aea838b51f05"
   },
   "outputs": [],
   "source": [
    "boxdata = rmses_type3\n",
    "min_value = min(boxdata)\n",
    "min_index = boxdata.index(min_value)\n",
    "model_seed = return_seed_from_model_index(type3, min_index)\n",
    "\n",
    "print(f'Min value %.3f from model seed %d' %(min_value, model_seed))"
   ]
  },
  {
   "cell_type": "markdown",
   "metadata": {
    "id": "9jiyLDn7xVcL"
   },
   "source": [
    "## D + A to D"
   ]
  },
  {
   "cell_type": "code",
   "execution_count": null,
   "metadata": {
    "colab": {
     "base_uri": "https://localhost:8080/"
    },
    "id": "5PpbGuouxcxv",
    "outputId": "26ad3546-4d59-47fe-bae2-544f682ec53c"
   },
   "outputs": [],
   "source": [
    "cd '../D + A'"
   ]
  },
  {
   "cell_type": "code",
   "execution_count": null,
   "metadata": {
    "id": "MzKIaR3JxfxG"
   },
   "outputs": [],
   "source": [
    "with open('type#1(DA)_airq-data.json') as json_file:\n",
    "    type1 = json.load(json_file)\n",
    "\n",
    "with open('type#2(DA)_airq-data.json') as json_file:\n",
    "    type2 = json.load(json_file)\n",
    " \n",
    "with open('type#3(DA)_airq-data.json') as json_file:\n",
    "    type3 = json.load(json_file)"
   ]
  },
  {
   "cell_type": "code",
   "execution_count": null,
   "metadata": {
    "colab": {
     "base_uri": "https://localhost:8080/",
     "height": 685
    },
    "id": "PgpiPLx0xlWr",
    "outputId": "4be52893-6691-4204-e6a9-34bd75651cf2"
   },
   "outputs": [],
   "source": [
    "# extract_values(data, metric, subtype)\n",
    "#   \"metric\": rmse, mae, meae, mape\n",
    "#   \"subtype\": entire, train, test \n",
    "\n",
    "metric = 'rmse'\n",
    "subtype = 'entire'\n",
    "\n",
    "rmses_type1 = extract_values(type1, metric, subtype)\n",
    "rmses_type2 = extract_values(type2, metric, subtype)\n",
    "rmses_type3 = extract_values(type3, metric, subtype)\n",
    "\n",
    "box_data = {\"Type#1\": rmses_type1, \"Type#2\": rmses_type2, \"Type#3\": rmses_type3}\n",
    "customized_boxplot(box_data)"
   ]
  },
  {
   "cell_type": "code",
   "execution_count": null,
   "metadata": {
    "colab": {
     "base_uri": "https://localhost:8080/",
     "height": 685
    },
    "id": "ZusbNLp4xpFs",
    "outputId": "197a111a-afdb-4870-d4d4-e79df9bb4fd7"
   },
   "outputs": [],
   "source": [
    "metric = 'rmse'\n",
    "subtype = 'test'\n",
    "\n",
    "rmses_type1 = extract_values(type1, metric, subtype)\n",
    "rmses_type2 = extract_values(type2, metric, subtype)\n",
    "rmses_type3 = extract_values(type3, metric, subtype)\n",
    "\n",
    "box_data = {\"Type#1\": rmses_type1, \"Type#2\": rmses_type2, \"Type#3\": rmses_type3}\n",
    "customized_boxplot(box_data)"
   ]
  },
  {
   "cell_type": "code",
   "execution_count": null,
   "metadata": {
    "colab": {
     "base_uri": "https://localhost:8080/"
    },
    "id": "IfC7lC190hpK",
    "outputId": "a54fe13f-7c8e-4248-84d2-c8881a1ca6aa"
   },
   "outputs": [],
   "source": [
    "boxdata = rmses_type3\n",
    "min_value = min(boxdata)\n",
    "min_index = boxdata.index(min_value)\n",
    "model_seed = return_seed_from_model_index(type3, min_index)\n",
    "\n",
    "print(f'Min value %.3f from model seed %d' %(min_value, model_seed))"
   ]
  },
  {
   "cell_type": "markdown",
   "metadata": {
    "id": "pq2KSGa4xtyR"
   },
   "source": [
    "## D + A + T + H to 2"
   ]
  },
  {
   "cell_type": "code",
   "execution_count": null,
   "metadata": {
    "colab": {
     "base_uri": "https://localhost:8080/"
    },
    "id": "aeoUyqo_x0lC",
    "outputId": "459ca5ed-4023-4652-c900-4503eb73cb90"
   },
   "outputs": [],
   "source": [
    "cd '../D + A + T + H'"
   ]
  },
  {
   "cell_type": "code",
   "execution_count": null,
   "metadata": {
    "id": "1kdD5OGMx0eX"
   },
   "outputs": [],
   "source": [
    "with open('type#1(DATH)_airq-data.json') as json_file:\n",
    "    type1 = json.load(json_file)\n",
    "\n",
    "with open('type#2(DATH)_airq-data.json') as json_file:\n",
    "    type2 = json.load(json_file)\n",
    "\n",
    "with open('type#3(DATH)_airq-data.json') as json_file:\n",
    "    type3 = json.load(json_file)"
   ]
  },
  {
   "cell_type": "code",
   "execution_count": null,
   "metadata": {
    "colab": {
     "base_uri": "https://localhost:8080/",
     "height": 685
    },
    "id": "N13OC5Gjxz-O",
    "outputId": "8ec93578-31a5-4cba-cf5f-5c948b215cde"
   },
   "outputs": [],
   "source": [
    "# extract_values(data, metric, subtype)\n",
    "#   \"metric\": rmse, mae, meae, mape\n",
    "#   \"subtype\": entire, train, test \n",
    "\n",
    "metric = 'rmse'\n",
    "subtype = 'entire'\n",
    "\n",
    "rmses_type1 = extract_values(type1, metric, subtype)\n",
    "rmses_type2 = extract_values(type2, metric, subtype)\n",
    "rmses_type3 = extract_values(type3, metric, subtype)\n",
    "\n",
    "box_data = {\"Type#1\": rmses_type1, \"Type#2\": rmses_type2, \"Type#3\": rmses_type3}\n",
    "customized_boxplot(box_data)"
   ]
  },
  {
   "cell_type": "code",
   "execution_count": null,
   "metadata": {
    "colab": {
     "base_uri": "https://localhost:8080/",
     "height": 685
    },
    "id": "ty1PrCityBcM",
    "outputId": "4a1107ca-a481-4a6e-db91-62aa3d835dfc"
   },
   "outputs": [],
   "source": [
    "metric = 'rmse'\n",
    "subtype = 'test'\n",
    "\n",
    "rmses_type1 = extract_values(type1, metric, subtype)\n",
    "rmses_type2 = extract_values(type2, metric, subtype)\n",
    "rmses_type3 = extract_values(type3, metric, subtype)\n",
    "\n",
    "box_data = {\"Type#1\": rmses_type1, \"Type#2\": rmses_type2, \"Type#3\": rmses_type3}\n",
    "customized_boxplot(box_data)"
   ]
  },
  {
   "cell_type": "code",
   "execution_count": null,
   "metadata": {
    "colab": {
     "base_uri": "https://localhost:8080/"
    },
    "id": "A7S5pe6l1EUc",
    "outputId": "58c91169-1972-4a67-bd7e-cc234a059766"
   },
   "outputs": [],
   "source": [
    "boxdata = rmses_type3\n",
    "min_value = min(boxdata)\n",
    "min_index = boxdata.index(min_value)\n",
    "model_seed = return_seed_from_model_index(type3, min_index)\n",
    "\n",
    "print(f'Min value %.3f from model seed %d' %(min_value, model_seed))"
   ]
  },
  {
   "cell_type": "markdown",
   "metadata": {
    "id": "zhgeq6CqyXnI"
   },
   "source": [
    "## D + C + A + T + H to 2"
   ]
  },
  {
   "cell_type": "code",
   "execution_count": null,
   "metadata": {
    "colab": {
     "base_uri": "https://localhost:8080/"
    },
    "id": "morZz7cgyXnJ",
    "outputId": "ea97db58-7200-49d1-c670-40f5800b840d"
   },
   "outputs": [],
   "source": [
    "cd '../D + C + A + T + H'"
   ]
  },
  {
   "cell_type": "code",
   "execution_count": null,
   "metadata": {
    "id": "fkmJk6v-yXnJ"
   },
   "outputs": [],
   "source": [
    "with open('type#1(DCATH)_airq-data.json') as json_file:\n",
    "    type1 = json.load(json_file)\n",
    "\n",
    "with open('type#2(DCATH)_airq-data.json') as json_file:\n",
    "    type2 = json.load(json_file)\n",
    "\n",
    "with open('type#3(DCATH)_airq-data.json') as json_file:\n",
    "    type3 = json.load(json_file)"
   ]
  },
  {
   "cell_type": "code",
   "execution_count": null,
   "metadata": {
    "colab": {
     "base_uri": "https://localhost:8080/",
     "height": 685
    },
    "id": "XiHnYGrAyXnK",
    "outputId": "1ff88343-d137-43b6-f306-d0c46e26bbbc"
   },
   "outputs": [],
   "source": [
    "# extract_values(data, metric, subtype)\n",
    "#   \"metric\": rmse, mae, meae, mape\n",
    "#   \"subtype\": entire, train, test \n",
    "\n",
    "metric = 'rmse'\n",
    "subtype = 'entire'\n",
    "\n",
    "rmses_type1 = extract_values(type1, metric, subtype)\n",
    "rmses_type2 = extract_values(type2, metric, subtype)\n",
    "rmses_type3 = extract_values(type3, metric, subtype)\n",
    "\n",
    "box_data = {\"Type#1\": rmses_type1, \"Type#2\": rmses_type2, \"Type#3\": rmses_type3}\n",
    "customized_boxplot(box_data)"
   ]
  },
  {
   "cell_type": "code",
   "execution_count": null,
   "metadata": {
    "colab": {
     "base_uri": "https://localhost:8080/",
     "height": 685
    },
    "id": "vgOX3FWTyXnK",
    "outputId": "b5b84224-c8cd-43ee-a3d6-ed38fb06d3dd"
   },
   "outputs": [],
   "source": [
    "metric = 'rmse'\n",
    "subtype = 'test'\n",
    "\n",
    "rmses_type1 = extract_values(type1, metric, subtype)\n",
    "rmses_type2 = extract_values(type2, metric, subtype)\n",
    "rmses_type3 = extract_values(type3, metric, subtype)\n",
    "\n",
    "box_data = {\"Type#1\": rmses_type1, \"Type#2\": rmses_type2, \"Type#3\": rmses_type3}\n",
    "customized_boxplot(box_data)"
   ]
  },
  {
   "cell_type": "code",
   "execution_count": null,
   "metadata": {
    "colab": {
     "base_uri": "https://localhost:8080/"
    },
    "id": "SE4jnGJN1o9F",
    "outputId": "805deab6-30bc-4631-b148-82a626c7f4dd"
   },
   "outputs": [],
   "source": [
    "boxdata = rmses_type3\n",
    "min_value = min(boxdata)\n",
    "min_index = boxdata.index(min_value)\n",
    "model_seed = return_seed_from_model_index(type3, min_index)\n",
    "\n",
    "print(f'Min value %.3f from model seed %d' %(min_value, model_seed))"
   ]
  },
  {
   "cell_type": "markdown",
   "metadata": {
    "id": "mQewM7k_TC3r"
   },
   "source": [
    "#  Improvement percentage to Entire Data"
   ]
  },
  {
   "cell_type": "markdown",
   "metadata": {},
   "source": [
    "## Type#1"
   ]
  },
  {
   "cell_type": "code",
   "execution_count": null,
   "metadata": {
    "colab": {
     "base_uri": "https://localhost:8080/"
    },
    "id": "DQzTMlNmTCI5",
    "outputId": "82f04e10-f2c8-4efc-ebb1-1c3566ae1057"
   },
   "outputs": [],
   "source": [
    "value_1 = 10.55  \n",
    "value_2 = 10.39  \n",
    "value_3 = 11.22  \n",
    "value_4 = 12.46 \n",
    "\n",
    "print(((50.83 - value_1) / 50.83) * 100 )\n",
    "print(((38.34 - value_2) / 38.34) * 100 )\n",
    "print(((26.10 - value_3) / 26.10) * 100 )\n",
    "print(((44.47 - value_4) / 44.47) * 100 )"
   ]
  },
  {
   "cell_type": "markdown",
   "metadata": {},
   "source": [
    "## Type#2"
   ]
  },
  {
   "cell_type": "code",
   "execution_count": null,
   "metadata": {},
   "outputs": [],
   "source": [
    "value_1 = 10.64\n",
    "value_2 = 10.50\n",
    "value_3 = 11.01\n",
    "value_4 = 11.18\n",
    "\n",
    "print(((50.83 - value_1) / 50.83) * 100 )\n",
    "print(((38.34 - value_2) / 38.34) * 100 )\n",
    "print(((26.10 - value_3) / 26.10) * 100 )\n",
    "print(((44.47 - value_4) / 44.47) * 100 )"
   ]
  },
  {
   "cell_type": "markdown",
   "metadata": {},
   "source": [
    "## Type#3"
   ]
  },
  {
   "cell_type": "code",
   "execution_count": null,
   "metadata": {},
   "outputs": [],
   "source": [
    "value_1 = 4.79 \n",
    "value_2 = 6.23 \n",
    "value_3 = 6.41 \n",
    "value_4 = 8.54 \n",
    "\n",
    "print(((50.83 - value_1) / 50.83) * 100 )\n",
    "print(((38.34 - value_2) / 38.34) * 100 )\n",
    "print(((26.10 - value_3) / 26.10) * 100 )\n",
    "print(((44.47 - value_4) / 44.47) * 100 )"
   ]
  },
  {
   "cell_type": "markdown",
   "metadata": {},
   "source": [
    "#  Improvement percentage to Test Data"
   ]
  },
  {
   "cell_type": "markdown",
   "metadata": {},
   "source": [
    "## Type#1"
   ]
  },
  {
   "cell_type": "code",
   "execution_count": null,
   "metadata": {
    "colab": {
     "base_uri": "https://localhost:8080/"
    },
    "id": "XQV5Gj3eTmB2",
    "outputId": "216f3f9c-dd99-4985-c478-a3068ecd3aba"
   },
   "outputs": [],
   "source": [
    "value_1 = 13.80   \n",
    "value_2 = 13.41   \n",
    "value_3 = 15.64   \n",
    "value_4 = 15.59  \n",
    "\n",
    "print(((9.97  - value_1) / 9.97 ) * 100 )\n",
    "print(((12.11 - value_2) / 12.11) * 100 )\n",
    "print(((12.40 - value_3) / 12.40) * 100 )\n",
    "print(((14.72 - value_4) / 14.72) * 100 )"
   ]
  },
  {
   "cell_type": "markdown",
   "metadata": {},
   "source": [
    "## Type#2"
   ]
  },
  {
   "cell_type": "code",
   "execution_count": null,
   "metadata": {
    "colab": {
     "base_uri": "https://localhost:8080/"
    },
    "id": "XQV5Gj3eTmB2",
    "outputId": "216f3f9c-dd99-4985-c478-a3068ecd3aba"
   },
   "outputs": [],
   "source": [
    "value_1 = 14.58\n",
    "value_2 = 14.05\n",
    "value_3 = 15.73\n",
    "value_4 = 15.39\n",
    "\n",
    "print(((9.97  - value_1) / 9.97 ) * 100 )\n",
    "print(((12.11 - value_2) / 12.11) * 100 )\n",
    "print(((12.40 - value_3) / 12.40) * 100 )\n",
    "print(((14.72 - value_4) / 14.72) * 100 )"
   ]
  },
  {
   "cell_type": "markdown",
   "metadata": {},
   "source": [
    "## Type#3"
   ]
  },
  {
   "cell_type": "code",
   "execution_count": null,
   "metadata": {
    "colab": {
     "base_uri": "https://localhost:8080/"
    },
    "id": "XQV5Gj3eTmB2",
    "outputId": "216f3f9c-dd99-4985-c478-a3068ecd3aba"
   },
   "outputs": [],
   "source": [
    "value_1 = 5.74\n",
    "value_2 = 8.13\n",
    "value_3 = 8.80\n",
    "value_4 = 13.2\n",
    "\n",
    "print(((9.97  - value_1) / 9.97 ) * 100 )\n",
    "print(((12.11 - value_2) / 12.11) * 100 )\n",
    "print(((12.40 - value_3) / 12.40) * 100 )\n",
    "print(((14.72 - value_4) / 14.72) * 100 )"
   ]
  }
 ],
 "metadata": {
  "colab": {
   "collapsed_sections": [
    "a0cPz0FIF49B",
    "3GX0r7LbwnbA",
    "9jiyLDn7xVcL",
    "pq2KSGa4xtyR",
    "zhgeq6CqyXnI",
    "UzSADT1zytHL",
    "7-uKF88mytHM",
    "ApribruMytHO",
    "r5VZwt9fytHP",
    "EKG72-waytHR",
    "N9wrVdNgr0UL",
    "So5lPZZDtIWi",
    "HEOK5d76un0H",
    "lqZv322pvtjI"
   ],
   "provenance": []
  },
  "kernelspec": {
   "display_name": "Python 3 (ipykernel)",
   "language": "python",
   "name": "python3"
  },
  "language_info": {
   "codemirror_mode": {
    "name": "ipython",
    "version": 3
   },
   "file_extension": ".py",
   "mimetype": "text/x-python",
   "name": "python",
   "nbconvert_exporter": "python",
   "pygments_lexer": "ipython3",
   "version": "3.8.8"
  }
 },
 "nbformat": 4,
 "nbformat_minor": 1
}
